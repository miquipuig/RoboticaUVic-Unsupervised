{
 "metadata": {
  "name": "",
  "signature": "sha256:3df3567d0550bdc1304827420806027b45b9a6615fae59cb317c00ca91270ac5"
 },
 "nbformat": 3,
 "nbformat_minor": 0,
 "worksheets": [
  {
   "cells": [
    {
     "cell_type": "code",
     "collapsed": false,
     "input": [
      "import numpy as np\n",
      "def kmeans(K, X):\n",
      "    centroides=np.random.rand(K,X.shape[1])\n",
      "    return centroides"
     ],
     "language": "python",
     "metadata": {},
     "outputs": [],
     "prompt_number": 115
    },
    {
     "cell_type": "code",
     "collapsed": false,
     "input": [
      "\n",
      "data = np.loadtxt('../iris.data',dtype='str',delimiter=',')\n",
      "iris_data=data[:,:-1].astype(np.float32)\n",
      "iris_labels=data[:,-1:]\n",
      "c=kmeans(10,iris_data)\n",
      "print c\n",
      "\n"
     ],
     "language": "python",
     "metadata": {},
     "outputs": [
      {
       "output_type": "stream",
       "stream": "stdout",
       "text": [
        "[[ 0.12333053  0.52825218  0.32019348  0.88849154]\n",
        " [ 0.35828837  0.73001897  0.88000358  0.65179666]\n",
        " [ 0.8867045   0.62655478  0.52308562  0.47575346]\n",
        " [ 0.94162366  0.63273685  0.69826979  0.00769025]\n",
        " [ 0.22951483  0.1826139   0.76491283  0.98020158]\n",
        " [ 0.01017183  0.94395614  0.6089217   0.29100917]\n",
        " [ 0.60125444  0.23613338  0.30068205  0.95453592]\n",
        " [ 0.29674769  0.87761096  0.56298383  0.17468466]\n",
        " [ 0.33838253  0.56201925  0.65584956  0.97219538]\n",
        " [ 0.34639029  0.657662    0.14604253  0.53327108]]\n"
       ]
      }
     ],
     "prompt_number": 116
    },
    {
     "cell_type": "code",
     "collapsed": false,
     "input": [
      "y=np.zeros(iris_data.shape[0])\n",
      "\n",
      "def assign(iris_data):\n",
      "    for i in range(0,iris_data.shape[0]):\n",
      "        y[i] = np.argmin(np.sum((c-iris_data[i])**2, 1))\n",
      "    return y\n",
      "\n",
      "assign(iris_data)"
     ],
     "language": "python",
     "metadata": {},
     "outputs": [
      {
       "metadata": {},
       "output_type": "pyout",
       "prompt_number": 120,
       "text": [
        "array([ 3.,  3.,  3.,  3.,  3.,  3.,  3.,  3.,  3.,  3.,  3.,  3.,  3.,\n",
        "        3.,  3.,  3.,  3.,  3.,  3.,  3.,  3.,  3.,  3.,  3.,  3.,  3.,\n",
        "        3.,  3.,  3.,  3.,  3.,  3.,  3.,  3.,  3.,  3.,  3.,  3.,  3.,\n",
        "        3.,  3.,  3.,  3.,  3.,  3.,  3.,  3.,  3.,  3.,  3.,  3.,  3.,\n",
        "        3.,  3.,  3.,  3.,  3.,  3.,  3.,  3.,  3.,  3.,  3.,  3.,  3.,\n",
        "        3.,  3.,  3.,  3.,  3.,  3.,  3.,  3.,  3.,  3.,  3.,  3.,  3.,\n",
        "        3.,  3.,  3.,  3.,  3.,  3.,  3.,  3.,  3.,  3.,  3.,  3.,  3.,\n",
        "        3.,  3.,  3.,  3.,  3.,  3.,  3.,  3.,  3.,  3.,  3.,  3.,  3.,\n",
        "        3.,  3.,  3.,  3.,  3.,  3.,  3.,  3.,  3.,  3.,  3.,  3.,  3.,\n",
        "        3.,  3.,  3.,  3.,  3.,  3.,  3.,  3.,  3.,  3.,  3.,  3.,  3.,\n",
        "        3.,  3.,  3.,  3.,  3.,  3.,  3.,  3.,  3.,  3.,  3.,  3.,  3.,\n",
        "        3.,  3.,  3.,  3.,  3.,  3.,  3.])"
       ]
      }
     ],
     "prompt_number": 120
    },
    {
     "cell_type": "code",
     "collapsed": false,
     "input": [
      "\n",
      "def average(c,iris_data):\n",
      "    \n",
      "    for i in range (0,c.shape[0]):\n",
      "        c[i]=iris_data[y==i].mean(0)\n",
      "    return c\n",
      "\n",
      "    \n",
      "print \"Valor nou dels centroides\"\n",
      "print average(c,iris_data)\n",
      "\n"
     ],
     "language": "python",
     "metadata": {},
     "outputs": [
      {
       "output_type": "stream",
       "stream": "stdout",
       "text": [
        "Valor nou dels centroides\n",
        "[[        nan         nan         nan         nan]\n",
        " [        nan         nan         nan         nan]\n",
        " [        nan         nan         nan         nan]\n",
        " [ 5.84333467  3.0539999   3.75866652  1.19866693]\n",
        " [        nan         nan         nan         nan]\n",
        " [        nan         nan         nan         nan]\n",
        " [        nan         nan         nan         nan]\n",
        " [        nan         nan         nan         nan]\n",
        " [        nan         nan         nan         nan]\n",
        " [        nan         nan         nan         nan]]\n"
       ]
      }
     ],
     "prompt_number": 129
    },
    {
     "cell_type": "code",
     "collapsed": false,
     "input": [
      "print \"Implementacio amb 3 K-Means i 2 dimensions\"\n",
      "c=kmeans(10,iris_data[:,:-2])\n",
      "assign(iris_data[:,:-2])\n",
      "print average(c,iris_data[:,:-2])"
     ],
     "language": "python",
     "metadata": {},
     "outputs": [
      {
       "output_type": "stream",
       "stream": "stdout",
       "text": [
        "Implementacio amb 3 K-Means i 2 dimensions\n",
        "[[        nan         nan]\n",
        " [        nan         nan]\n",
        " [ 5.12142849  3.41071391]\n",
        " [        nan         nan]\n",
        " [        nan         nan]\n",
        " [        nan         nan]\n",
        " [        nan         nan]\n",
        " [ 6.27340555  2.84148979]\n",
        " [        nan         nan]\n",
        " [        nan         nan]]\n"
       ]
      }
     ],
     "prompt_number": 156
    },
    {
     "cell_type": "code",
     "collapsed": false,
     "input": [
      "print \"Implementacio amb 3 K-Means i 4 dimensions\"\n",
      "c=kmeans(10,iris_data)\n",
      "assign(iris_data)\n",
      "print average(c,iris_data)"
     ],
     "language": "python",
     "metadata": {},
     "outputs": [
      {
       "output_type": "stream",
       "stream": "stdout",
       "text": [
        "Implementacio amb 3 K-Means i 4 dimensions\n",
        "[[        nan         nan         nan         nan]\n",
        " [ 6.34722137  2.98888874  5.27222204  2.08055568]\n",
        " [        nan         nan         nan         nan]\n",
        " [        nan         nan         nan         nan]\n",
        " [        nan         nan         nan         nan]\n",
        " [ 6.27924633  2.81509495  4.87547207  1.49622667]\n",
        " [        nan         nan         nan         nan]\n",
        " [ 5.16721344  3.29999995  1.89508212  0.4196721 ]\n",
        " [        nan         nan         nan         nan]\n",
        " [        nan         nan         nan         nan]]\n"
       ]
      }
     ],
     "prompt_number": 150
    },
    {
     "cell_type": "code",
     "collapsed": false,
     "input": [],
     "language": "python",
     "metadata": {},
     "outputs": []
    },
    {
     "cell_type": "code",
     "collapsed": false,
     "input": [],
     "language": "python",
     "metadata": {},
     "outputs": []
    }
   ],
   "metadata": {}
  }
 ]
}